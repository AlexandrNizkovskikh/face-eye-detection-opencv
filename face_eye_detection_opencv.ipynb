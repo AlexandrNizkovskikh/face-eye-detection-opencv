{
  "nbformat": 4,
  "nbformat_minor": 0,
  "metadata": {
    "colab": {
      "provenance": []
    },
    "kernelspec": {
      "name": "python3",
      "display_name": "Python 3"
    },
    "language_info": {
      "name": "python"
    }
  },
  "cells": [
    {
      "cell_type": "code",
      "source": [
        "import cv2\n",
        "import gdown\n",
        "from matplotlib import pyplot\n",
        "# Команда обеспечивает вывод графиков в Google Colaboratory\n",
        "%matplotlib inline"
      ],
      "metadata": {
        "id": "iMxrfMTMJZsZ"
      },
      "execution_count": null,
      "outputs": []
    },
    {
      "cell_type": "code",
      "source": [
        "#Загрузим изображение Альфреда Молины\n",
        "from google.colab import files\n",
        "\n",
        "uploaded = files.upload()\n",
        "\n",
        "for filename in uploaded.keys():\n",
        "    print('Файл \"{name}\" загружен. Размер файла {length} байт'.format(name=filename, length=len(uploaded[filename])))"
      ],
      "metadata": {
        "id": "8tdDamCMnczV"
      },
      "execution_count": null,
      "outputs": []
    },
    {
      "cell_type": "code",
      "source": [
        "# Загрузим изображение очков\n",
        "from google.colab import files\n",
        "\n",
        "uploaded = files.upload()\n",
        "\n",
        "for filename in uploaded.keys():\n",
        "    print('Файл \"{name}\" загружен. Размер файла {length} байт'.format(name=filename, length=len(uploaded[filename])))"
      ],
      "metadata": {
        "id": "tR2lGa6RqQYa"
      },
      "execution_count": null,
      "outputs": []
    },
    {
      "cell_type": "code",
      "source": [
        "# Загрузка изображения\n",
        "img = cv2.imread('./OTTO.jpg')\n",
        "\n",
        "img2 = img.copy()\n",
        "\n",
        "# загрузка каскада Хаара\n",
        "classifier = cv2.CascadeClassifier(cv2.data.haarcascades+ \"haarcascade_frontalface_default.xml\")\n",
        "\n",
        "# Загрузка каскада для поиска глаз\n",
        "gdown.download('https://storage.yandexcloud.net/academy.ai/haarcascade_eye.xml', 'haarcascade_eye.xml', quiet=True)\n",
        "# Загрузка каскада для поиска глаз\n",
        "classifier_eye = cv2.CascadeClassifier(cv2.data.haarcascades + 'haarcascade_eye.xml')\n",
        "\n",
        "# выполнение распознавания лиц\n",
        "bboxes = classifier.detectMultiScale(img)\n",
        "\n",
        "# формирование прямоугольника вокруг каждого обнаруженного лица\n",
        "for box in bboxes:\n",
        "    # Формирование координат прямоугольника\n",
        "    x, y, width, height = box\n",
        "    x2, y2 = x + width, y + height\n",
        "\n",
        "    # Находим центр прямоугольника\n",
        "    center = ((x + x2) // 2, (y + y2) // 2)\n",
        "\n",
        "    # Определяем радиусы овала\n",
        "    radius_x = width // 2\n",
        "    radius_y = height // 2 + height // 10 #Увеличим высоту овала на 10%\n",
        "\n",
        "    # Рисуем овал\n",
        "    cv2.ellipse(img2, center, (radius_x, radius_y), 0, 0, 360, (0, 0, 255), 2)\n",
        "\n",
        "    face = img2[y:y + height, x:x + width] # найденная область с лицом\n",
        "\n",
        "    # выполнение распознавания глаз\n",
        "    eyes = classifier_eye.detectMultiScale(face, scaleFactor=1.1, minNeighbors=5, minSize=(30, 30)) # Добавим параметры для более точного распознавания глаз\n",
        "\n",
        "    for (x_eye,y_eye,w_eye,h_eye) in eyes:\n",
        "\n",
        "        # определяем центр круга\n",
        "        center = (int(x_eye + 0.5*w_eye), int(y_eye + 0.5*h_eye))\n",
        "\n",
        "        # вычисляем радиус окружности (подобран эмпирическим путем)\n",
        "        radius = int(0.3 * (w_eye + h_eye))\n",
        "        color = (0, 255, 0) # цвет в RGB (интенсивность цветов красный-зеленый-синий от 0 до 255)\n",
        "        thickness = 3 # толщина линии\n",
        "        # рисуем круг\n",
        "        cv2.circle(face, center, radius, color, thickness)\n",
        "\n",
        "\n",
        "fig, (ax1, ax2) = pyplot.subplots(1, 2, figsize=(15, 8))\n",
        "ax1.imshow(cv2.cvtColor(img, cv2.COLOR_BGR2RGB))\n",
        "ax1.xaxis.set_ticks([])\n",
        "ax1.yaxis.set_ticks([])\n",
        "ax1.set_title('Исходное изображение')\n",
        "\n",
        "ax2.imshow(cv2.cvtColor(img2, cv2.COLOR_BGR2RGB))\n",
        "ax2.xaxis.set_ticks([])\n",
        "ax2.yaxis.set_ticks([])\n",
        "ax2.set_title('Распознанные лица и глаза')\n",
        "\n",
        "pyplot.show()"
      ],
      "metadata": {
        "id": "TIBjo23Dn_tg"
      },
      "execution_count": null,
      "outputs": []
    },
    {
      "cell_type": "code",
      "source": [
        "import cv2\n",
        "import gdown\n",
        "from matplotlib import pyplot\n",
        "# Команда обеспечивает вывод графиков в Google Colaboratory\n",
        "%matplotlib inline\n",
        "\n",
        "# Загрузка изображения\n",
        "img = cv2.imread('./OTTO.jpg')\n",
        "img2 = img.copy()\n",
        "\n",
        "# загрузка каскада Хаара\n",
        "face_classifier = cv2.CascadeClassifier(cv2.data.haarcascades+ \"haarcascade_frontalface_default.xml\")\n",
        "eye_classifier = cv2.CascadeClassifier(cv2.data.haarcascades + \"haarcascade_eye.xml\")\n",
        "\n",
        "# функция для заблюривания лица\n",
        "def blur_face(img):\n",
        "    (h, w) = img.shape[:2]\n",
        "    dW = int(w / 3.0)\n",
        "    dH = int(h / 3.0)\n",
        "    if dW % 2 == 0:\n",
        "        dW -= 1\n",
        "    if dH % 2 == 0:\n",
        "        dH -= 1\n",
        "    return cv2.GaussianBlur(img, (dW, dH), 0)\n",
        "\n",
        "# Выполнение распознавания лиц\n",
        "faces = face_classifier.detectMultiScale(img, scaleFactor=2, minNeighbors=3, minSize=(50, 50))\n",
        "\n",
        "# Формирование прямоугольника вокруг каждого обнаруженного лица\n",
        "for (x, y, width, height) in faces:\n",
        "    # Находим центр прямоугольника\n",
        "    center = ((x + x + width) // 2, (y + y + height) // 2)\n",
        "\n",
        "    # Определяем радиусы овала\n",
        "    radius_x = width // 2\n",
        "    radius_y = (height // 2) + (height // 10)  # Увеличим высоту овала на 10%\n",
        "\n",
        "    # Рисуем овал\n",
        "    cv2.ellipse(img2, center, (radius_x, radius_y), 0, 0, 360, (0, 0, 255), 2)\n",
        "\n",
        "    # Найдем глаза в области лица\n",
        "    roi_gray = img[y:y + height, x:x + width]\n",
        "    eyes = eye_classifier.detectMultiScale(roi_gray, scaleFactor=1.1, minNeighbors=5, minSize=(30, 30))\n",
        "\n",
        "    # Заблюрим лицо, исключая области глаз\n",
        "    blurred_face = blur_face(roi_gray)\n",
        "\n",
        "    # Заменим выделенное лицо на заблюренное, исключая области глаз\n",
        "    for (ex, ey, ew, eh) in eyes:\n",
        "        blurred_face[ey:ey + eh, ex:ex + ew] = roi_gray[ey:ey + eh, ex:ex + ew]\n",
        "\n",
        "    img2[y:y + height, x:x + width] = blurred_face\n",
        "\n",
        "fig, (ax1, ax2) = pyplot.subplots(1, 2, figsize=(15, 8))\n",
        "ax1.imshow(cv2.cvtColor(img, cv2.COLOR_BGR2RGB))\n",
        "ax1.xaxis.set_ticks([])\n",
        "ax1.yaxis.set_ticks([])\n",
        "ax1.set_title('Исходное изображение')\n",
        "\n",
        "ax2.imshow(cv2.cvtColor(img2, cv2.COLOR_BGR2RGB))\n",
        "ax2.xaxis.set_ticks([])\n",
        "ax2.yaxis.set_ticks([])\n",
        "ax2.set_title('Распознанное лицо с блюром вокруг глаз')\n",
        "\n",
        "pyplot.show()"
      ],
      "metadata": {
        "id": "E3LFszJtj6Zb"
      },
      "execution_count": null,
      "outputs": []
    }
  ]
}